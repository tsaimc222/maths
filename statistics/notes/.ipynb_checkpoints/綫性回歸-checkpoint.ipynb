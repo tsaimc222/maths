{
 "cells": [
  {
   "cell_type": "markdown",
   "metadata": {},
   "source": [
    "# 綫性回歸\n",
    "\n",
    "## 單變量綫性回歸\n",
    "\n",
    "我們希望能找到一條直綫$y = mx+b$，能夠最好的描述一組數據$(X_n,Y_n)$。問題可以轉化爲，已知數據和誤差定義，求誤差的最小值，這裏定義誤差為$y$的平方誤差。\n",
    "\n",
    "該數據集平均平方誤差可表示為$S_{ME} = \\frac{(y_1-(mx_1+b))^2+(y_2-(mx_2+b))^2+(y_3-(mx_3+b))^2+……+(y_n-(mx_n+b))^2}{n}$\n",
    "\n",
    "展開後可得$S_{ME} = \\bar{y^2}+m^2\\bar{x^2}+2mb\\bar{x}-2m\\bar{xy}-2b\\bar{y}+b^2$\n",
    "\n",
    "求$S_{ME}$最小值，得到的$m$和$b$能使得該直綫最好地符合該數據集。那麽如何求最小值呢？分別對$m$和$b$求偏導得到一個方程組，求解該方程組即可，方程組如下：\n",
    "\n",
    "$$\n",
    "    m\\bar{x^2}+b\\bar{x}-\\bar{xy} = 0 \\\\\n",
    "    m\\bar{x}+\\bar{y}+b = 0\n",
    "$$\n",
    "\n",
    "\n",
    "最終可以神奇地推導得出，$(\\bar{x},\\bar{y})$和$(\\frac{\\bar{x^2}}{\\bar{x}},\\frac{\\bar{xy}}{\\bar{x}})$都在這條綫上。即直綫在\n",
    "$$\n",
    "m = \\frac{\\bar{y}-\\frac{\\bar{xy}}{\\bar{x}}{\\bar{x}-\\frac{\\bar{x^2}}{\\bar{x}}}\n",
    "$$"
   ]
  }
 ],
 "metadata": {
  "kernelspec": {
   "display_name": "Python 3",
   "language": "python",
   "name": "python3"
  },
  "language_info": {
   "codemirror_mode": {
    "name": "ipython",
    "version": 3
   },
   "file_extension": ".py",
   "mimetype": "text/x-python",
   "name": "python",
   "nbconvert_exporter": "python",
   "pygments_lexer": "ipython3",
   "version": "3.7.0"
  },
  "latex_envs": {
   "LaTeX_envs_menu_present": true,
   "autoclose": false,
   "autocomplete": true,
   "bibliofile": "biblio.bib",
   "cite_by": "apalike",
   "current_citInitial": 1,
   "eqLabelWithNumbers": true,
   "eqNumInitial": 1,
   "hotkeys": {
    "equation": "Ctrl-E",
    "itemize": "Ctrl-I"
   },
   "labels_anchors": false,
   "latex_user_defs": false,
   "report_style_numbering": false,
   "user_envs_cfg": false
  },
  "toc": {
   "base_numbering": 1,
   "nav_menu": {},
   "number_sections": true,
   "sideBar": true,
   "skip_h1_title": false,
   "title_cell": "Table of Contents",
   "title_sidebar": "Contents",
   "toc_cell": false,
   "toc_position": {},
   "toc_section_display": true,
   "toc_window_display": false
  },
  "varInspector": {
   "cols": {
    "lenName": 16,
    "lenType": 16,
    "lenVar": 40
   },
   "kernels_config": {
    "python": {
     "delete_cmd_postfix": "",
     "delete_cmd_prefix": "del ",
     "library": "var_list.py",
     "varRefreshCmd": "print(var_dic_list())"
    },
    "r": {
     "delete_cmd_postfix": ") ",
     "delete_cmd_prefix": "rm(",
     "library": "var_list.r",
     "varRefreshCmd": "cat(var_dic_list()) "
    }
   },
   "types_to_exclude": [
    "module",
    "function",
    "builtin_function_or_method",
    "instance",
    "_Feature"
   ],
   "window_display": false
  }
 },
 "nbformat": 4,
 "nbformat_minor": 2
}
